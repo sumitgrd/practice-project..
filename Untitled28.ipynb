{
 "cells": [
  {
   "cell_type": "markdown",
   "id": "1b6a0d2c",
   "metadata": {},
   "source": [
    "# Student grades prediction"
   ]
  },
  {
   "cell_type": "markdown",
   "id": "3676a6ca",
   "metadata": {},
   "source": [
    "\n",
    "Project Description\n",
    "The dataset contains grades scored by students throughout their university tenure in various courses and their CGPA calculated based on their grades\n",
    "Columns Description-  total 43 columns\n",
    "-Seat No : The enrolled number of candidate that took the exams\n",
    "\n",
    "CGPA : The cumulative GPA based on the four year total grade progress of each candidate . CGPA is a Final Marks -- provided to student.\n",
    " \n",
    "· All other columns are course codes in the format AB-XXX where AB are alphabets representing candidates' departments and XXX are numbers where first X represents the year the canditate took exam\n",
    "\n",
    " \n",
    "Predict - CGPA of a student based on different grades in four years.\n",
    "\n",
    "Dataset Link-\n",
    "•  https://github.com/FlipRoboTechnologies/ML-Datasets/blob/main/Grades/Grades.csv\n"
   ]
  },
  {
   "cell_type": "code",
   "execution_count": null,
   "id": "969aab2d",
   "metadata": {},
   "outputs": [],
   "source": [
    "import numpy as np\n",
    "import pandas as pd\n",
    "import matplotlib.pyplot as plt\n",
    "%matplotlib inline\n",
    "import seaborn as sns\n",
    "sns.set_style('whitegrid')\n",
    "import statsmodels.api as sm"
   ]
  },
  {
   "cell_type": "code",
   "execution_count": null,
   "id": "8344770e",
   "metadata": {},
   "outputs": [],
   "source": [
    "mat = pd.read_csv(\"C:/Users/tulik/Downloads/student-mat.csv\")"
   ]
  },
  {
   "cell_type": "code",
   "execution_count": null,
   "id": "8b8f7326",
   "metadata": {},
   "outputs": [],
   "source": [
    "mat.columns = ['school','sex','age','address','family_size','parents_status','mother_education','father_education',\n",
    "           'mother_job','father_job','reason','guardian','commute_time','study_time','failures','school_support',\n",
    "          'family_support','paid_classes','activities','nursery','desire_higher_edu','internet','romantic','family_quality',\n",
    "          'free_time','go_out','weekday_alcohol_usage','weekend_alcohol_usage','health','absences','period1_score','period2_score','final_score']\n",
    "mat.head()"
   ]
  },
  {
   "cell_type": "code",
   "execution_count": null,
   "id": "39600f1b",
   "metadata": {},
   "outputs": [],
   "source": [
    "mat['final_grade'] = 'na'\n",
    "mat.loc[(mat.final_score >= 15) & (mat.final_score <= 20), 'final_grade'] = 'good' \n",
    "mat.loc[(mat.final_score >= 10) & (mat.final_score <= 14), 'final_grade'] = 'fair' \n",
    "mat.loc[(mat.final_score >= 0) & (mat.final_score <= 9), 'final_grade'] = 'poor' \n",
    "mat.head()"
   ]
  },
  {
   "cell_type": "code",
   "execution_count": null,
   "id": "30fbc44f",
   "metadata": {},
   "outputs": [],
   "source": [
    "plt.figure(figsize=(8,6))\n",
    "sns.countplot(mat.final_grade, order=[\"poor\",\"fair\",\"good\"])\n",
    "plt.title('Final Grade - Number of Students',fontsize=20)\n",
    "plt.xlabel('Final Grade', fontsize=16)\n",
    "plt.ylabel('Number of Students', fontsize=16)"
   ]
  },
  {
   "cell_type": "code",
   "execution_count": null,
   "id": "25a8d6fc",
   "metadata": {},
   "outputs": [],
   "source": [
    "corr = mat.corr()\n",
    "plt.figure(figsize=(10,10))\n",
    "sns.heatmap(corr, annot=True, cmap=\"Reds\")\n",
    "plt.title('Correlation Heatmap', fontsize=20)\n"
   ]
  },
  {
   "cell_type": "code",
   "execution_count": null,
   "id": "6eeb1afe",
   "metadata": {},
   "outputs": [],
   "source": [
    "#good = mat.loc[mat.final_grade == 'good']\n",
    "#poor = mat.loc[mat.final_grade == 'poor']\n",
    "#good['good_student_father_education'] = good.father_education\n",
    "#poor['poor_student_father_education'] = poor.father_education\n",
    "#good['good_student_mother_education'] = good.mother_education\n",
    "#poor['poor_student_mother_education'] = poor.mother_education"
   ]
  },
  {
   "cell_type": "code",
   "execution_count": null,
   "id": "8f84db90",
   "metadata": {},
   "outputs": [],
   "source": [
    "#plt.figure(figsize=(6,4))\n",
    "#p2=sns.kdeplot(good['good_student_father_education'], shade=True, color=\"r\")\n",
    "#p2=sns.kdeplot(poor['poor_student_father_education'], shade=True, color=\"b\")\n",
    "#plt.xlabel('Father Education Level', fontsize=20)"
   ]
  },
  {
   "cell_type": "code",
   "execution_count": null,
   "id": "ac5d8fec",
   "metadata": {},
   "outputs": [],
   "source": [
    "#plt.figure(figsize=(6,4))\n",
    "#p3=sns.kdeplot(good['good_student_mother_education'], shade=True, color=\"r\")\n",
    "#p3=sns.kdeplot(poor['poor_student_mother_education'], shade=True, color=\"b\")\n",
    "#plt.xlabel('Mother Education Level', fontsize=20)\n"
   ]
  },
  {
   "cell_type": "code",
   "execution_count": null,
   "id": "02fb242f",
   "metadata": {},
   "outputs": [],
   "source": [
    "plt.figure(figsize=(12,8))\n",
    "sns.barplot(x='age', y='study_time', data=mat)\n",
    "plt.title('Distribution Of Study Time By Age & Desire To Receive Higher Education', fontsize=20)\n",
    "plt.ylabel('Study Time', fontsize=16)\n",
    "plt.xlabel('Age', fontsize=16)"
   ]
  },
  {
   "cell_type": "code",
   "execution_count": null,
   "id": "f831e9d9",
   "metadata": {},
   "outputs": [],
   "source": [
    "perc = (lambda col: col/col.sum())\n",
    "index = ['poor','fair','good']\n",
    "higher_tab = pd.crosstab(index=mat.final_grade, columns=mat.desire_higher_edu)\n",
    "higher_perc = higher_tab.apply(perc).reindex(index)"
   ]
  },
  {
   "cell_type": "code",
   "execution_count": null,
   "id": "bccb71a8",
   "metadata": {},
   "outputs": [],
   "source": [
    "higher_perc.plot.bar(figsize=(14,6), fontsize=16)\n",
    "plt.title('Final Grade By Desire to Receive Higher Education', fontsize=20)\n",
    "plt.xlabel('Final Grade', fontsize=16)\n",
    "plt.ylabel('Percentage of Student', fontsize=16)"
   ]
  },
  {
   "cell_type": "code",
   "execution_count": null,
   "id": "c1a90d43",
   "metadata": {},
   "outputs": [],
   "source": [
    "math = mat.copy()\n",
    "math = math.drop(['final_score'], axis=1)"
   ]
  },
  {
   "cell_type": "code",
   "execution_count": null,
   "id": "9bf083ac",
   "metadata": {},
   "outputs": [],
   "source": [
    "from sklearn import preprocessing\n",
    "le = preprocessing.LabelEncoder()\n",
    "math.final_grade = le.fit_transform(math.final_grade)"
   ]
  },
  {
   "cell_type": "code",
   "execution_count": null,
   "id": "1b478f8a",
   "metadata": {},
   "outputs": [],
   "source": [
    "from sklearn.model_selection import train_test_split\n",
    "X = math.drop('final_grade',axis=1)\n",
    "y = math.final_grade\n",
    "X_train,X_test,y_train,y_test=train_test_split(X,y,test_size=0.3)"
   ]
  },
  {
   "cell_type": "code",
   "execution_count": null,
   "id": "fa6ff84a",
   "metadata": {},
   "outputs": [],
   "source": [
    "X_train = pd.get_dummies(X_train)\n",
    "X_test = pd.get_dummies(X_test)"
   ]
  },
  {
   "cell_type": "code",
   "execution_count": null,
   "id": "0c5654f0",
   "metadata": {},
   "outputs": [],
   "source": [
    "len(list(X_train))"
   ]
  },
  {
   "cell_type": "code",
   "execution_count": null,
   "id": "0816f4c3",
   "metadata": {},
   "outputs": [],
   "source": [
    "from sklearn.tree import DecisionTreeClassifier\n",
    "\n",
    "msl=[]\n",
    "for i in range(1,58):\n",
    "    tree = DecisionTreeClassifier(min_samples_leaf=i)\n",
    "    t= tree.fit(X_train, y_train)\n",
    "    ts=t.score(X_test, y_test)\n",
    "    msl.append(ts)\n",
    "msl = pd.Series(msl)\n",
    "msl.where(msl==msl.max()).dropna()"
   ]
  },
  {
   "cell_type": "code",
   "execution_count": null,
   "id": "2b408a3f",
   "metadata": {},
   "outputs": [],
   "source": [
    "tree = DecisionTreeClassifier(min_samples_leaf=17)\n",
    "t= tree.fit(X_train, y_train)\n",
    "print(\"Decision Tree Model Score\" , \":\" , t.score(X_train, y_train) , \",\" , \n",
    "      \"Cross Validation Score\" ,\":\" , t.score(X_test, y_test))"
   ]
  }
 ],
 "metadata": {
  "kernelspec": {
   "display_name": "Python 3 (ipykernel)",
   "language": "python",
   "name": "python3"
  },
  "language_info": {
   "codemirror_mode": {
    "name": "ipython",
    "version": 3
   },
   "file_extension": ".py",
   "mimetype": "text/x-python",
   "name": "python",
   "nbconvert_exporter": "python",
   "pygments_lexer": "ipython3",
   "version": "3.11.4"
  }
 },
 "nbformat": 4,
 "nbformat_minor": 5
}
