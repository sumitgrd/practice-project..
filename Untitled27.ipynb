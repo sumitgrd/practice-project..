{
 "cells": [
  {
   "cell_type": "markdown",
   "id": "33046440",
   "metadata": {},
   "source": [
    "# Third Phase Project Glass Identification"
   ]
  },
  {
   "cell_type": "markdown",
   "id": "a55f15d8",
   "metadata": {},
   "source": [
    "Project Description\n",
    "The dataset describes the chemical properties of glass and involves classifying samples of glass using their chemical properties as one of six classes. The dataset was credited to Vina Spiehler in 1987. The study of classification of types of glass was motivated by criminological investigation. At the scene of the crime, the glass left can be used as evidence...if it is correctly identified!\n",
    "\n",
    "The chemical compositions are measured as the weight percent in corresponding oxide.\n",
    "Attribute Information-\n",
    "1.\t Id number: 1 to 214\n",
    "2.\t RI: refractive index\n",
    "3.\tNa: Sodium (unit measurement: weight percent in corresponding oxide, as are attributes 4-10)\n",
    "4.\tMg: Magnesium\n",
    "5.\tAl: Aluminum\n",
    "6.\tSi: Silicon\n",
    "7.\tK: Potassium\n",
    "8.\tCa: Calcium\n",
    "9.\tBa: Barium\n",
    "10.\tFe: Iron\n",
    "11.\tType of glass: (class attribute)\n",
    "•\t1- building_windows_float_processed\n",
    "•\t2- building_windows_non_float_processed\n",
    "•\t3- vehicle_windows_float_processed\n",
    "•\t4- vehicle_windows_non_float_processed (none in this database)\n",
    "•\t5- containers\n",
    "•\t6- tableware\n",
    "•\t7- headlamps\n",
    "There are 214 observations in the dataset. The dataset can be divided into window glass (classes 1-4) and non-window glass (classes 5-7). \n",
    "Predict : Type of glass\n",
    "\n",
    "Dataset Link-\n",
    "•\thttps://github.com/FlipRoboTechnologies/ML-Datasets/blob/main/Glass%20Identification/Glass%20Identification.csv\n"
   ]
  },
  {
   "cell_type": "code",
   "execution_count": null,
   "id": "3e61821f",
   "metadata": {},
   "outputs": [],
   "source": [
    "import pandas as pd \n",
    "import numpy as np\n",
    "import seaborn as sb\n",
    "immport matplotlib.pyplot as plt "
   ]
  },
  {
   "cell_type": "code",
   "execution_count": null,
   "id": "8c2b068b",
   "metadata": {},
   "outputs": [],
   "source": [
    "df=pd.read_csv(\"Glass.csv\")\n",
    "df"
   ]
  },
  {
   "cell_type": "code",
   "execution_count": null,
   "id": "3c229ac5",
   "metadata": {},
   "outputs": [],
   "source": [
    "Y =df[\"Type\"]\n",
    "Y.head()"
   ]
  },
  {
   "cell_type": "code",
   "execution_count": null,
   "id": "6b7d299a",
   "metadata": {},
   "outputs": [],
   "source": [
    "df = df.drop(\"Type\",axis=1)\n",
    "df.head()"
   ]
  },
  {
   "cell_type": "code",
   "execution_count": null,
   "id": "513a7afe",
   "metadata": {},
   "outputs": [],
   "source": [
    "from sklearn import preprocessing.\n",
    "x= df.values #returns a numpy array\n",
    "\n",
    "min_max_scaler = preprocessing.MinMaxScaler()\n",
    "x_scaled = min_max_scaler.fit_transform(x)\n",
    "df= pd.Dataframe(x_scaled)\n",
    "df"
   ]
  },
  {
   "cell_type": "code",
   "execution_count": null,
   "id": "53cf7a54",
   "metadata": {},
   "outputs": [],
   "source": [
    "import numpy as np \n",
    "from sklearn.model_selection import train_test_split\n",
    "X_train, X_test, y_train, y_test = train_test_split(df,Y, test_size=0.30, random_state=42)\n",
    "print((x_train.shape)"
   ]
  },
  {
   "cell_type": "code",
   "execution_count": 5,
   "id": "b9a1a5c2",
   "metadata": {},
   "outputs": [
    {
     "name": "stdout",
     "output_type": "stream",
     "text": [
      "Collecting pydotplus\n",
      "  Downloading pydotplus-2.0.2.tar.gz (278 kB)\n",
      "     ---------------------------------------- 0.0/278.7 kB ? eta -:--:--\n",
      "     ---- -------------------------------- 30.7/278.7 kB 640.0 kB/s eta 0:00:01\n",
      "     ---- -------------------------------- 30.7/278.7 kB 640.0 kB/s eta 0:00:01\n",
      "     ---- -------------------------------- 30.7/278.7 kB 640.0 kB/s eta 0:00:01\n",
      "     -------------- --------------------- 112.6/278.7 kB 652.2 kB/s eta 0:00:01\n",
      "     -------------- --------------------- 112.6/278.7 kB 652.2 kB/s eta 0:00:01\n",
      "     ---------------------- ------------- 174.1/278.7 kB 655.4 kB/s eta 0:00:01\n",
      "     ---------------------- ------------- 174.1/278.7 kB 655.4 kB/s eta 0:00:01\n",
      "     ------------------------- ---------- 194.6/278.7 kB 560.2 kB/s eta 0:00:01\n",
      "     -----------------------------------  276.5/278.7 kB 710.0 kB/s eta 0:00:01\n",
      "     ------------------------------------ 278.7/278.7 kB 659.5 kB/s eta 0:00:00\n",
      "  Preparing metadata (setup.py): started\n",
      "  Preparing metadata (setup.py): finished with status 'done'\n",
      "Requirement already satisfied: pyparsing>=2.0.1 in c:\\users\\dell\\anaconda3\\lib\\site-packages (from pydotplus) (3.0.9)\n",
      "Building wheels for collected packages: pydotplus\n",
      "  Building wheel for pydotplus (setup.py): started\n",
      "  Building wheel for pydotplus (setup.py): finished with status 'done'\n",
      "  Created wheel for pydotplus: filename=pydotplus-2.0.2-py3-none-any.whl size=24578 sha256=7451e8f0fd7e5e9cf8ddc3417f7df421c8c108ee8693a3a0be4fa8d70b217040\n",
      "  Stored in directory: c:\\users\\dell\\appdata\\local\\pip\\cache\\wheels\\bd\\ce\\e8\\ff9d9c699514922f57caa22fbd55b0a32761114b4c4acc9e03\n",
      "Successfully built pydotplus\n",
      "Installing collected packages: pydotplus\n",
      "Successfully installed pydotplus-2.0.2\n"
     ]
    }
   ],
   "source": [
    "!pip install pydotplus"
   ]
  },
  {
   "cell_type": "code",
   "execution_count": null,
   "id": "de288961",
   "metadata": {},
   "outputs": [],
   "source": [
    "from sklearn.tree import DecisionTreeClassifier\n",
    "from sklearn.matrics import accuracy_score\n",
    "clf = DecisionTreeClassifier(criterion=\"entropy\")\n",
    "clf = clf.fit(X_train,y_train)\n",
    "y_pred = clf.predict(X_test)\n",
    "accuracy_score(y_test, y_pred)"
   ]
  },
  {
   "cell_type": "code",
   "execution_count": null,
   "id": "430b7f78",
   "metadata": {},
   "outputs": [],
   "source": [
    "from sklearn.externals.six import stringIo\n",
    "from IPython.display import Image \n",
    "from sklearn.tree import export_graphviz\n",
    "import pydotplus\n",
    "dot_data = stringIo()\n",
    "export_graphviz(clf, out_file=dot_data,\n",
    "                filled=True, rounded=True,\n",
    "                feauture_names = df.columns,\n",
    "                special_characters=True)\n",
    "graph = pydotplus.graph_from_dot_data(dot_data(dot_data.getvalue())\n",
    "image(graph.create_png())                                    \n",
    "\n"
   ]
  },
  {
   "cell_type": "markdown",
   "id": "a6d6944b",
   "metadata": {},
   "source": [
    "Cart"
   ]
  },
  {
   "cell_type": "code",
   "execution_count": null,
   "id": "697b5f56",
   "metadata": {},
   "outputs": [],
   "source": [
    "from sklearn.tree import DecisionTreeClassifier\n",
    "from Sklean.matrics import mean_squared_error\n",
    "import math\n",
    "clf=DecisionTreeClassifier()\n",
    "clf.fit(X_train,y_train)\n",
    "ypred=clf.predict(X_test)\n",
    "asc=accuracy_score(y_test, ypred)\n",
    "mse= mean_squared_error(y_test, ypred)\n",
    "rsme=math.sqrt(mse)\n",
    "print(asc,mse,rmse)"
   ]
  },
  {
   "cell_type": "code",
   "execution_count": null,
   "id": "d238e247",
   "metadata": {},
   "outputs": [],
   "source": [
    "from sklearn.externals.six import stringIo\n",
    "from IPython.display import Image \n",
    "from sklearn.tree import export_graphviz\n",
    "import pydotplus\n",
    "dot_data = stringIo()\n",
    "export_graphviz(clf, out_file=dot_data,\n",
    "                filled=True, rounded=True,\n",
    "                feauture_names = df.columns,\n",
    "                special_characters=True)\n",
    "graph = pydotplus.graph_from_dot_data(dot_data(dot_data.getvalue())\n",
    "image(graph.create_png())                                    \n"
   ]
  },
  {
   "cell_type": "code",
   "execution_count": null,
   "id": "0b4cd1fb",
   "metadata": {},
   "outputs": [],
   "source": [
    "df.fillna(df.mean(), inplace=True)\n",
    "df "
   ]
  },
  {
   "cell_type": "code",
   "execution_count": null,
   "id": "17a40617",
   "metadata": {},
   "outputs": [],
   "source": [
    "from sklearn.datasets import load_digits\n",
    "from sklearn.linear_model import Perceptron\n",
    "clf = Percepton(tol=le-3, random_state=0)\n",
    "clf.fit(X_train, y_train)\n",
    "\n",
    "clf.score(X_test, y_test)"
   ]
  },
  {
   "cell_type": "markdown",
   "id": "810d2d0c",
   "metadata": {},
   "source": [
    "Neural Network"
   ]
  },
  {
   "cell_type": "code",
   "execution_count": null,
   "id": "6ca5e11f",
   "metadata": {},
   "outputs": [],
   "source": [
    "from sklearn.neural_network import MLPClassifier\n",
    "classfier = MLPCclassifier(solver='ibfgs',alpha=le-5,hidden_layer_sizes=(5,2), random_state=1)\n",
    "classifier.fit(X_train, y_tarin)"
   ]
  },
  {
   "cell_type": "code",
   "execution_count": null,
   "id": "b08a7427",
   "metadata": {},
   "outputs": [],
   "source": [
    "MLPClassifier(activation='relu',alpha=le-O5,batch_size='auto', beta_1=0.9,\n",
    "              beta_2=0.999,early_stopping=False, epsilon=le-08,\n",
    "              hidden_layer_sizes=(5,2),learning_rate='contant',\n",
    "              learning_rate_init=0.001, max_iter=200, momentum=0.9,\n",
    "              nesterrovs_momentum=True, power_t=0.5, random state=1, shuffle=True,\n",
    "              solver='lbfgs',tol=0.0001, validation_fraction=0.1, verbose=False,\n",
    "              warm_start=False)\n",
    "\n"
   ]
  },
  {
   "cell_type": "code",
   "execution_count": null,
   "id": "a1d0815a",
   "metadata": {},
   "outputs": [],
   "source": [
    "y_pred = classifier.predict(X_test)"
   ]
  },
  {
   "cell_type": "code",
   "execution_count": null,
   "id": "f9d15839",
   "metadata": {},
   "outputs": [],
   "source": [
    "from skleran.matrics import classification_report, confusion_matrix\n",
    "print(confusion_matrix(y_test, y_pred))\n",
    "print(classification_report(y_test, y_pred))\n"
   ]
  },
  {
   "cell_type": "markdown",
   "id": "f9b4820e",
   "metadata": {},
   "source": [
    "logistic"
   ]
  },
  {
   "cell_type": "code",
   "execution_count": null,
   "id": "9548a87c",
   "metadata": {},
   "outputs": [],
   "source": [
    "from sklearn.datasets import load_iris\n",
    "from sklearn.liner_model import LogisticRegression\n",
    "clf = LogisticRegression(random_state=0, solver='lbfgs',\n",
    "                         multi_class='multinomial').fit(X_train, y_train)\n"
   ]
  },
  {
   "cell_type": "code",
   "execution_count": null,
   "id": "55b38002",
   "metadata": {},
   "outputs": [],
   "source": [
    "clf.score(X_test, y_test)"
   ]
  },
  {
   "cell_type": "markdown",
   "id": "a12a6091",
   "metadata": {},
   "source": [
    "Random forest"
   ]
  },
  {
   "cell_type": "code",
   "execution_count": null,
   "id": "84785828",
   "metadata": {},
   "outputs": [],
   "source": [
    "from skleran.ensemble import RandomForetClassifier\n",
    "from sklearn.metrics import mean_squared_error\n",
    "from math import sqrt\n",
    "clf = RandomForestClassifier(n_estimator=150, max_depth=3,random_state=0)\n",
    "clf.fit(X_train,Y_train)\n",
    "ypred=clf,predict(X_test)\n",
    "accuracy_score(y_test,ypred)\n",
    "asc=accuracy_score(y_test,ypred)\n",
    "mse=mean_squared_error(y_test,ypred)\n",
    "rmse= sqrt(mse)\n",
    "print(asc,mse,rmse)"
   ]
  },
  {
   "cell_type": "code",
   "execution_count": null,
   "id": "bab977b2",
   "metadata": {},
   "outputs": [],
   "source": []
  }
 ],
 "metadata": {
  "kernelspec": {
   "display_name": "Python 3 (ipykernel)",
   "language": "python",
   "name": "python3"
  },
  "language_info": {
   "codemirror_mode": {
    "name": "ipython",
    "version": 3
   },
   "file_extension": ".py",
   "mimetype": "text/x-python",
   "name": "python",
   "nbconvert_exporter": "python",
   "pygments_lexer": "ipython3",
   "version": "3.11.4"
  }
 },
 "nbformat": 4,
 "nbformat_minor": 5
}
